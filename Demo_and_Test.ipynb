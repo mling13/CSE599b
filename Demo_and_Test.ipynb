{
 "cells": [
  {
   "cell_type": "code",
   "execution_count": 1,
   "id": "adapted-campaign",
   "metadata": {},
   "outputs": [],
   "source": [
    "import csv\n",
    "import numpy as np\n",
    "import random\n",
    "from nupack import *\n",
    "import pandas as pd\n",
    "import statistics\n",
    "import matplotlib\n",
    "import matplotlib.pyplot as plt\n",
    "matplotlib.rcParams.update({'font.size': 22})"
   ]
  },
  {
   "cell_type": "code",
   "execution_count": 2,
   "id": "realistic-subcommittee",
   "metadata": {},
   "outputs": [],
   "source": [
    "from rna_inverse import *"
   ]
  },
  {
   "cell_type": "markdown",
   "id": "peripheral-relevance",
   "metadata": {},
   "source": [
    "# Test on Simple RNA Sequence"
   ]
  },
  {
   "cell_type": "markdown",
   "id": "representative-diesel",
   "metadata": {},
   "source": [
    "First, input the target secondary structure and constraints:"
   ]
  },
  {
   "cell_type": "code",
   "execution_count": 4,
   "id": "saving-spiritual",
   "metadata": {},
   "outputs": [],
   "source": [
    "target_structure = '(((((.....))))).....((......))......'\n",
    "constraints = {}\n",
    "constraints[1] = 'G'\n",
    "constraints[8] = 'A'\n",
    "# Convert constraints to full-list of constraints\n",
    "constraints = check_sequence_constraints(target_structure, \n",
    "                                         constraints)"
   ]
  },
  {
   "cell_type": "markdown",
   "id": "accepted-angola",
   "metadata": {},
   "source": [
    "Next, generate the initial sequence:"
   ]
  },
  {
   "cell_type": "code",
   "execution_count": 5,
   "id": "atmospheric-yesterday",
   "metadata": {},
   "outputs": [],
   "source": [
    "_, initial_sequence = initialize_sequences(target_structure, 50)"
   ]
  },
  {
   "cell_type": "markdown",
   "id": "realistic-lawrence",
   "metadata": {},
   "source": [
    "Evaluate the initial sequence"
   ]
  },
  {
   "cell_type": "code",
   "execution_count": 6,
   "id": "linear-parking",
   "metadata": {},
   "outputs": [],
   "source": [
    "nupack_structure, mfe = nupack_analyze_sequence(initial_sequence)"
   ]
  },
  {
   "cell_type": "markdown",
   "id": "split-copyright",
   "metadata": {},
   "source": [
    "Mutate and improve sequence"
   ]
  },
  {
   "cell_type": "code",
   "execution_count": 7,
   "id": "inclusive-homeless",
   "metadata": {},
   "outputs": [],
   "source": [
    "number_iterations = 100\n",
    "result = mutate_sequence_iterate(initial_sequence, \n",
    "                                 target_structure, \n",
    "                                 nupack_structure, \n",
    "                                 number_iterations)"
   ]
  },
  {
   "cell_type": "code",
   "execution_count": 8,
   "id": "governing-revelation",
   "metadata": {},
   "outputs": [
    {
     "name": "stdout",
     "output_type": "stream",
     "text": [
      "CACUGAAGCCCAGUGUAACGCCACCCUCGGAAACUU\n"
     ]
    }
   ],
   "source": [
    "improved_sequence = result['final_sequence']\n",
    "print(improved_sequence)"
   ]
  },
  {
   "cell_type": "markdown",
   "id": "refined-pharmaceutical",
   "metadata": {},
   "source": [
    "# Test Performance on Aptamer Subset"
   ]
  },
  {
   "cell_type": "code",
   "execution_count": 4,
   "id": "japanese-escape",
   "metadata": {},
   "outputs": [],
   "source": [
    "# First, set parameters to extract RNA aptamers\n",
    "def is_valid_rna_sequence(sequence):\n",
    "    rna_bases = {'A', 'C', 'G', 'U'}\n",
    "    return rna_bases.issuperset(sequence.upper())"
   ]
  },
  {
   "cell_type": "code",
   "execution_count": 5,
   "id": "furnished-wound",
   "metadata": {},
   "outputs": [],
   "source": [
    "# Extract unique RNA aptamers\n",
    "sequences = set()\n",
    "with open('aptamer_database.csv', 'r') as f:\n",
    "    reader = csv.DictReader(f)\n",
    "    for row in reader:\n",
    "        sequence = row['DNA/RNA']\n",
    "        if is_valid_rna_sequence(sequence):\n",
    "            sequences.add(sequence)\n",
    "sequences = list(sequences)"
   ]
  },
  {
   "cell_type": "markdown",
   "id": "returning-experience",
   "metadata": {},
   "source": [
    "Plot distribution of aptamer sizes"
   ]
  },
  {
   "cell_type": "code",
   "execution_count": 11,
   "id": "innovative-genre",
   "metadata": {},
   "outputs": [
    {
     "data": {
      "text/plain": [
       "Text(0, 0.5, 'Frequency')"
      ]
     },
     "execution_count": 11,
     "metadata": {},
     "output_type": "execute_result"
    },
    {
     "data": {
      "image/png": "[encoded data removed]",
      "text/plain": [
       "<Figure size 432x288 with 1 Axes>"
      ]
     },
     "metadata": {
      "needs_background": "light"
     },
     "output_type": "display_data"
    }
   ],
   "source": [
    "length = []\n",
    "for sequence in sequences:\n",
    "    length.append(len(sequence))\n",
    "fig, axs = plt.subplots()\n",
    "axs.hist(length, bins=20, histtype='bar', ec='black')\n",
    "plt.title('Distribution of Aptamer Sizes')\n",
    "plt.xlabel('Aptamer Size (# Nucleotides)')\n",
    "plt.ylabel('Frequency')"
   ]
  },
  {
   "cell_type": "markdown",
   "id": "shaped-intent",
   "metadata": {},
   "source": [
    "Filter aptamer structures (between 10 and 100 nucleotides) and divide into buckets of different lengths"
   ]
  },
  {
   "cell_type": "code",
   "execution_count": 6,
   "id": "natural-denial",
   "metadata": {},
   "outputs": [],
   "source": [
    "aptamer_benchmark_structures = set()\n",
    "for sequence in sequences:\n",
    "    if len(sequence) >= 10 and len(sequence) <100:\n",
    "        nupack_structure, _ = nupack_analyze_sequence(sequence)\n",
    "        aptamer_benchmark_structures.add(nupack_structure)\n",
    "aptamer_benchmark_structures = list(aptamer_benchmark_structures)\n",
    "\n",
    "structure_buckets = {\n",
    "    30: [],\n",
    "    35: [],\n",
    "    40: [],\n",
    "    50: [],\n",
    "    60: [],\n",
    "    80: [],\n",
    "    100: []\n",
    "}\n",
    "for structure in aptamer_benchmark_structures:\n",
    "    if len(structure) < 30:\n",
    "        structure_buckets[30].append(structure)\n",
    "    elif len(structure) < 35:\n",
    "        structure_buckets[35].append(structure)\n",
    "    elif len(structure) < 40:\n",
    "        structure_buckets[40].append(structure)\n",
    "    elif len(structure) < 50:\n",
    "        structure_buckets[50].append(structure)\n",
    "    elif len(structure) < 60:\n",
    "        structure_buckets[60].append(structure)\n",
    "    elif len(structure) < 80:\n",
    "        structure_buckets[80].append(structure)\n",
    "    elif len(structure) < 100:\n",
    "        structure_buckets[100].append(structure)\n",
    "    else:\n",
    "        print('Something went wrong!')"
   ]
  },
  {
   "cell_type": "code",
   "execution_count": 16,
   "id": "rotary-walter",
   "metadata": {},
   "outputs": [
    {
     "name": "stdout",
     "output_type": "stream",
     "text": [
      "-------------------------------------\n",
      "Round 0\n",
      "-------------------------------------\n",
      "Nucleotide size upper bounds: [30, 35, 40, 50, 60, 80, 100]\n",
      "Accuracies for each bucket: [0.9230769230769231, 0.9210526315789473, 0.9803921568627451, 0.7966101694915254, 0.8958333333333334, 0.8064516129032258, 0.75]\n",
      "Median iteration values: [0.0, 0, 0.0, 0, 0, 1.5, 7.0]\n",
      "-------------------------------------\n",
      "Round 1\n",
      "-------------------------------------\n",
      "Nucleotide size upper bounds: [30, 35, 40, 50, 60, 80, 100]\n",
      "Accuracies for each bucket: [0.9615384615384616, 0.868421052631579, 0.9803921568627451, 0.8135593220338984, 0.8541666666666666, 0.8709677419354839, 0.6875]\n",
      "Median iteration values: [0, 0, 0.0, 0.0, 0, 2.0, 9.0]\n",
      "-------------------------------------\n",
      "Round 2\n",
      "-------------------------------------\n",
      "Nucleotide size upper bounds: [30, 35, 40, 50, 60, 80, 100]\n",
      "Accuracies for each bucket: [0.9615384615384616, 0.8157894736842105, 0.9215686274509803, 0.847457627118644, 0.8333333333333334, 0.8870967741935484, 0.5625]\n",
      "Median iteration values: [0, 0, 0, 0.0, 0.0, 2, 4.0]\n"
     ]
    }
   ],
   "source": [
    "for i in range(3):\n",
    "    print('-------------------------------------')\n",
    "    print(f'Round {i}')\n",
    "    print('-------------------------------------')\n",
    "    correct_list = []\n",
    "    total_list = []\n",
    "    average_iterations = []\n",
    "    dict_key = [30, 35, 40, 50, 60, 80, 100]\n",
    "    for key in dict_key:\n",
    "        correct = 0\n",
    "        iterations = []\n",
    "        total_list.append(len(structure_buckets[key]))\n",
    "        for target_structure in structure_buckets[key]:\n",
    "            _, random_sequence = initialize_sequences(target_structure, 100)\n",
    "            nupack_structure, _ = nupack_analyze_sequence(random_sequence)\n",
    "            result = mutate_sequence_iterate(random_sequence, target_structure, nupack_structure, 100)\n",
    "            if result['success']:\n",
    "                correct += 1\n",
    "                iterations.append(result['iteration'])\n",
    "        correct_list.append(correct)\n",
    "        average_iterations.append(statistics.median(iterations))\n",
    "    accuracies = [i/j for i, j in zip(correct_list, total_list)]\n",
    "    print('Nucleotide size upper bounds:', dict_key)\n",
    "    print('Accuracies for each bucket:', accuracies)\n",
    "    print('Median iteration values:', average_iterations)"
   ]
  },
  {
   "cell_type": "code",
   "execution_count": 11,
   "id": "human-spain",
   "metadata": {},
   "outputs": [
    {
     "name": "stdout",
     "output_type": "stream",
     "text": [
      "Nucleotide size upper bounds: [30, 35, 40, 50, 60, 80, 100]\n",
      "Accuracies for each bucket: [26, 30, 44, 49, 43, 49, 23]\n",
      "Median iteration values: [0.0, 0.0, 0.0, 0, 0, 1, 11]\n",
      "Nucleotide size upper bounds: [30, 35, 40, 50, 60, 80, 100]\n",
      "Accuracies for each bucket: [25, 34, 50, 50, 43, 52, 20]\n",
      "Median iteration values: [0, 0.0, 0.0, 0.0, 0, 1.0, 1.5]\n"
     ]
    }
   ],
   "source": [
    "for i in range(2):\n",
    "    correct_list = []\n",
    "    total_list = []\n",
    "    average_iterations = []\n",
    "    dict_key = [30, 35, 40, 50, 60, 80, 100]\n",
    "    for key in dict_key:\n",
    "        correct = 0\n",
    "        current = 0\n",
    "        iterations = []\n",
    "        total_list.append(len(structure_buckets[key]))\n",
    "        for target_structure in structure_buckets[key]:\n",
    "            _, random_sequence = initialize_sequences(target_structure, 100)\n",
    "            nupack_structure, _ = nupack_analyze_sequence(random_sequence)\n",
    "            result = mutate_sequence_iterate(random_sequence, target_structure, nupack_structure, 100)\n",
    "            current += 1\n",
    "            print('Current bucket', key, '/ Current structure:', current, 'of', len(structure_buckets[key]), end='\\r')\n",
    "            if result['success']:\n",
    "                correct += 1\n",
    "                iterations.append(result['iteration'])\n",
    "        correct_list.append(correct)\n",
    "        average_iterations.append(statistics.median(iterations))\n",
    "    accuracies = [i/j for i, j in zip(correct_list, total_list)]\n",
    "    print('Nucleotide size upper bounds:', dict_key)\n",
    "    print('Accuracies for each bucket:', correct_list)\n",
    "    print('Median iteration values:', average_iterations)"
   ]
  },
  {
   "cell_type": "code",
   "execution_count": null,
   "id": "integral-portable",
   "metadata": {},
   "outputs": [],
   "source": []
  }
 ],
 "metadata": {
  "kernelspec": {
   "display_name": "Python 3",
   "language": "python",
   "name": "python3"
  },
  "language_info": {
   "codemirror_mode": {
    "name": "ipython",
    "version": 3
   },
   "file_extension": ".py",
   "mimetype": "text/x-python",
   "name": "python",
   "nbconvert_exporter": "python",
   "pygments_lexer": "ipython3",
   "version": "3.8.5"
  }
 },
 "nbformat": 4,
 "nbformat_minor": 5
}
