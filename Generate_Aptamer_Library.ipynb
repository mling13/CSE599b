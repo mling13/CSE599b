{
 "cells": [
  {
   "cell_type": "code",
   "execution_count": 2,
   "id": "appreciated-jamaica",
   "metadata": {},
   "outputs": [],
   "source": [
    "import csv\n",
    "import numpy as np\n",
    "import random\n",
    "from nupack import *\n",
    "import pandas as pd\n",
    "import statistics\n",
    "import matplotlib\n",
    "import matplotlib.pyplot as plt\n",
    "matplotlib.rcParams.update({'font.size': 22})"
   ]
  },
  {
   "cell_type": "code",
   "execution_count": 3,
   "id": "married-tonight",
   "metadata": {},
   "outputs": [],
   "source": [
    "from rna_inverse import *"
   ]
  },
  {
   "cell_type": "markdown",
   "id": "alike-gibson",
   "metadata": {},
   "source": [
    "# Designing an Aptamer Library"
   ]
  },
  {
   "cell_type": "markdown",
   "id": "complicated-supplement",
   "metadata": {},
   "source": [
    "First, find the structure of the EP23 aptamer, using NUPACK"
   ]
  },
  {
   "cell_type": "code",
   "execution_count": 10,
   "id": "round-avenue",
   "metadata": {},
   "outputs": [
    {
     "name": "stdout",
     "output_type": "stream",
     "text": [
      "((((..........)))).\n",
      "-1.3716583251953125\n"
     ]
    }
   ],
   "source": [
    "ep23_sequence = 'ACGUAUCCCUUUUCGCGUA'\n",
    "ep23_structure, ep23_mfe = nupack_analyze_sequence(ep23_sequence)\n",
    "print(ep23_structure)\n",
    "print(ep23_mfe)"
   ]
  },
  {
   "cell_type": "code",
   "execution_count": 7,
   "id": "assured-german",
   "metadata": {},
   "outputs": [
    {
     "name": "stdout",
     "output_type": "stream",
     "text": [
      "Initial sequences: ['GACGGCGCAAAAUACGUCG', 'GGGUGCGGGCAACAACCCA', 'CCCCUUCACAUCAUGGGGG', 'CAGGGAUAACUCCACCUGG', 'GGUCGUACUGGUUGGACCU', 'GGGCGAGGUGAGCGGCCCU', 'GGCGGCUUUAACGACGCCG', 'UCGCGACAAAUCAGGCGAA', 'GGCUGCCACGACCAAGCCA', 'CCGGACCGAACAACCCGGU', 'GGCGGUACGAAAUACGCCG', 'AGCCGAGUCACGUAGGCUG', 'GGCCGCUACACAUAGGCCA', 'GGCCACAGAUGACCGGCCC', 'GCUCAUCACCGCUCGAGCA', 'GGCGAGAAUGGAUACGCCG', 'GGGCCGACAUUAUAGCCCA', 'GAGGUCUCUCUUAUCCUCA', 'GGGGUUGAUUGGGUCCCCG', 'GGGCUUCGAUGACUGCCCG']\n",
      "Final sequences: ['GACGGCGCAAAAUACGUCG', 'GGGUGCGGGCAACAACCCA', 'CCCCUUCACAUCAUGGGGG', 'CAGGGAUAACUCCACCUGG', 'GGUCGUACUGGUUGGACCU', 'GGGCGAGGUGAGCGGCCCU', 'GGCGGCUUUAACGACGCCG', 'UCGCGACAAAUCAGGCGAA', 'GGCUGCCACGACCAAGCCA', 'CCGGACCGAACAACCCGGU', 'GGCGGUACGAAAUACGCCG', 'AGCCGAGUCACGUAGGCUG', 'GGCCGCUACACAUAGGCCA', 'GGCCACAGAUGACCGGCCC', 'GCUCAUCACCGCUCGAGCA', 'GGCGAGAAUGGAUACGCCG', 'GGGCCGACAUUAUAGCCCA', 'GAGGUCUCUCUUAUCCUCA', 'GGGGUUGAUUGGGUCCCCG', 'GGGCUUCGAUGACUGCCCG']\n",
      "Successful: [True, True, True, True, True, True, True, True, True, True, True, True, True, True, True, True, True, True, True, True]\n"
     ]
    }
   ],
   "source": [
    "library_size = 20\n",
    "initial_sequences = []\n",
    "final_sequences = []\n",
    "successes = []\n",
    "for i in range(library_size):\n",
    "    _, initial_sequence = initialize_sequences(ep23_structure, 50)\n",
    "    initial_sequences.append(initial_sequence)\n",
    "    nupack_structure, _ = nupack_analyze_sequence(initial_sequence)\n",
    "    result = mutate_sequence_iterate(initial_sequence, ep23_structure, nupack_structure, 100)\n",
    "    successes.append(result['success'])\n",
    "    final_sequence = result['final_sequence']\n",
    "    final_sequences.append(final_sequence)\n",
    "print('Initial sequences:', initial_sequences)\n",
    "print('Final sequences:', final_sequences)\n",
    "print('Successful:', successes)"
   ]
  },
  {
   "cell_type": "code",
   "execution_count": 15,
   "id": "acoustic-messaging",
   "metadata": {},
   "outputs": [],
   "source": [
    "mfe_list = []\n",
    "similarity_scores = []\n",
    "for sequence in final_sequences:\n",
    "    nupack_structure, mfe = nupack_analyze_sequence(sequence)\n",
    "    mfe_list.append(mfe)\n",
    "    mismatch = structure_differences(ep23_structure, nupack_structure)\n",
    "    similarity_score = (len(sequence) - len(mismatch)) / len(sequence)\n",
    "    similarity_scores.append(similarity_score)"
   ]
  },
  {
   "cell_type": "code",
   "execution_count": 16,
   "id": "computational-cooling",
   "metadata": {},
   "outputs": [],
   "source": [
    "aptamer_library = pd.DataFrame(list(zip(final_sequences, mfe_list, similarity_scores)), columns=['sequences', 'mfe', 'similarity_scores'])"
   ]
  },
  {
   "cell_type": "code",
   "execution_count": 17,
   "id": "sweet-royalty",
   "metadata": {},
   "outputs": [
    {
     "data": {
      "text/html": [
       "<div>\n",
       "<style scoped>\n",
       "    .dataframe tbody tr th:only-of-type {\n",
       "        vertical-align: middle;\n",
       "    }\n",
       "\n",
       "    .dataframe tbody tr th {\n",
       "        vertical-align: top;\n",
       "    }\n",
       "\n",
       "    .dataframe thead th {\n",
       "        text-align: right;\n",
       "    }\n",
       "</style>\n",
       "<table border=\"1\" class=\"dataframe\">\n",
       "  <thead>\n",
       "    <tr style=\"text-align: right;\">\n",
       "      <th></th>\n",
       "      <th>sequences</th>\n",
       "      <th>mfe</th>\n",
       "      <th>similarity_scores</th>\n",
       "    </tr>\n",
       "  </thead>\n",
       "  <tbody>\n",
       "    <tr>\n",
       "      <th>0</th>\n",
       "      <td>GACGGCGCAAAAUACGUCG</td>\n",
       "      <td>-4.737886</td>\n",
       "      <td>1.0</td>\n",
       "    </tr>\n",
       "    <tr>\n",
       "      <th>1</th>\n",
       "      <td>GGGUGCGGGCAACAACCCA</td>\n",
       "      <td>-5.587886</td>\n",
       "      <td>1.0</td>\n",
       "    </tr>\n",
       "    <tr>\n",
       "      <th>2</th>\n",
       "      <td>CCCCUUCACAUCAUGGGGG</td>\n",
       "      <td>-6.870575</td>\n",
       "      <td>1.0</td>\n",
       "    </tr>\n",
       "    <tr>\n",
       "      <th>3</th>\n",
       "      <td>CAGGGAUAACUCCACCUGG</td>\n",
       "      <td>-4.870575</td>\n",
       "      <td>1.0</td>\n",
       "    </tr>\n",
       "    <tr>\n",
       "      <th>4</th>\n",
       "      <td>GGUCGUACUGGUUGGACCU</td>\n",
       "      <td>-5.082211</td>\n",
       "      <td>1.0</td>\n",
       "    </tr>\n",
       "    <tr>\n",
       "      <th>5</th>\n",
       "      <td>GGGCGAGGUGAGCGGCCCU</td>\n",
       "      <td>-7.182211</td>\n",
       "      <td>1.0</td>\n",
       "    </tr>\n",
       "    <tr>\n",
       "      <th>6</th>\n",
       "      <td>GGCGGCUUUAACGACGCCG</td>\n",
       "      <td>-6.837885</td>\n",
       "      <td>1.0</td>\n",
       "    </tr>\n",
       "    <tr>\n",
       "      <th>7</th>\n",
       "      <td>UCGCGACAAAUCAGGCGAA</td>\n",
       "      <td>-4.598799</td>\n",
       "      <td>1.0</td>\n",
       "    </tr>\n",
       "    <tr>\n",
       "      <th>8</th>\n",
       "      <td>GGCUGCCACGACCAAGCCA</td>\n",
       "      <td>-5.587886</td>\n",
       "      <td>1.0</td>\n",
       "    </tr>\n",
       "    <tr>\n",
       "      <th>9</th>\n",
       "      <td>CCGGACCGAACAACCCGGU</td>\n",
       "      <td>-4.797502</td>\n",
       "      <td>1.0</td>\n",
       "    </tr>\n",
       "    <tr>\n",
       "      <th>10</th>\n",
       "      <td>GGCGGUACGAAAUACGCCG</td>\n",
       "      <td>-6.837885</td>\n",
       "      <td>1.0</td>\n",
       "    </tr>\n",
       "    <tr>\n",
       "      <th>11</th>\n",
       "      <td>AGCCGAGUCACGUAGGCUG</td>\n",
       "      <td>-5.021658</td>\n",
       "      <td>1.0</td>\n",
       "    </tr>\n",
       "    <tr>\n",
       "      <th>12</th>\n",
       "      <td>GGCCGCUACACAUAGGCCA</td>\n",
       "      <td>-7.537886</td>\n",
       "      <td>1.0</td>\n",
       "    </tr>\n",
       "    <tr>\n",
       "      <th>13</th>\n",
       "      <td>GGCCACAGAUGACCGGCCC</td>\n",
       "      <td>-5.948799</td>\n",
       "      <td>1.0</td>\n",
       "    </tr>\n",
       "    <tr>\n",
       "      <th>14</th>\n",
       "      <td>GCUCAUCACCGCUCGAGCA</td>\n",
       "      <td>-4.637886</td>\n",
       "      <td>1.0</td>\n",
       "    </tr>\n",
       "    <tr>\n",
       "      <th>15</th>\n",
       "      <td>GGCGAGAAUGGAUACGCCG</td>\n",
       "      <td>-5.437885</td>\n",
       "      <td>1.0</td>\n",
       "    </tr>\n",
       "    <tr>\n",
       "      <th>16</th>\n",
       "      <td>GGGCCGACAUUAUAGCCCA</td>\n",
       "      <td>-6.237886</td>\n",
       "      <td>1.0</td>\n",
       "    </tr>\n",
       "    <tr>\n",
       "      <th>17</th>\n",
       "      <td>GAGGUCUCUCUUAUCCUCA</td>\n",
       "      <td>-4.637886</td>\n",
       "      <td>1.0</td>\n",
       "    </tr>\n",
       "    <tr>\n",
       "      <th>18</th>\n",
       "      <td>GGGGUUGAUUGGGUCCCCG</td>\n",
       "      <td>-6.737886</td>\n",
       "      <td>1.0</td>\n",
       "    </tr>\n",
       "    <tr>\n",
       "      <th>19</th>\n",
       "      <td>GGGCUUCGAUGACUGCCCG</td>\n",
       "      <td>-7.337886</td>\n",
       "      <td>1.0</td>\n",
       "    </tr>\n",
       "  </tbody>\n",
       "</table>\n",
       "</div>"
      ],
      "text/plain": [
       "              sequences       mfe  similarity_scores\n",
       "0   GACGGCGCAAAAUACGUCG -4.737886                1.0\n",
       "1   GGGUGCGGGCAACAACCCA -5.587886                1.0\n",
       "2   CCCCUUCACAUCAUGGGGG -6.870575                1.0\n",
       "3   CAGGGAUAACUCCACCUGG -4.870575                1.0\n",
       "4   GGUCGUACUGGUUGGACCU -5.082211                1.0\n",
       "5   GGGCGAGGUGAGCGGCCCU -7.182211                1.0\n",
       "6   GGCGGCUUUAACGACGCCG -6.837885                1.0\n",
       "7   UCGCGACAAAUCAGGCGAA -4.598799                1.0\n",
       "8   GGCUGCCACGACCAAGCCA -5.587886                1.0\n",
       "9   CCGGACCGAACAACCCGGU -4.797502                1.0\n",
       "10  GGCGGUACGAAAUACGCCG -6.837885                1.0\n",
       "11  AGCCGAGUCACGUAGGCUG -5.021658                1.0\n",
       "12  GGCCGCUACACAUAGGCCA -7.537886                1.0\n",
       "13  GGCCACAGAUGACCGGCCC -5.948799                1.0\n",
       "14  GCUCAUCACCGCUCGAGCA -4.637886                1.0\n",
       "15  GGCGAGAAUGGAUACGCCG -5.437885                1.0\n",
       "16  GGGCCGACAUUAUAGCCCA -6.237886                1.0\n",
       "17  GAGGUCUCUCUUAUCCUCA -4.637886                1.0\n",
       "18  GGGGUUGAUUGGGUCCCCG -6.737886                1.0\n",
       "19  GGGCUUCGAUGACUGCCCG -7.337886                1.0"
      ]
     },
     "execution_count": 17,
     "metadata": {},
     "output_type": "execute_result"
    }
   ],
   "source": [
    "aptamer_library"
   ]
  },
  {
   "cell_type": "code",
   "execution_count": null,
   "id": "representative-roads",
   "metadata": {},
   "outputs": [],
   "source": []
  }
 ],
 "metadata": {
  "kernelspec": {
   "display_name": "Python 3",
   "language": "python",
   "name": "python3"
  },
  "language_info": {
   "codemirror_mode": {
    "name": "ipython",
    "version": 3
   },
   "file_extension": ".py",
   "mimetype": "text/x-python",
   "name": "python",
   "nbconvert_exporter": "python",
   "pygments_lexer": "ipython3",
   "version": "3.8.5"
  }
 },
 "nbformat": 4,
 "nbformat_minor": 5
}
